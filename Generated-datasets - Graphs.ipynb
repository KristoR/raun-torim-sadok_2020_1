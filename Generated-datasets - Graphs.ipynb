{
 "cells": [
  {
   "cell_type": "code",
   "execution_count": null,
   "metadata": {},
   "outputs": [],
   "source": [
    "import pandas as pd #ver 1.0.0\n",
    "import seaborn as sns #ver 0.10.0"
   ]
  },
  {
   "cell_type": "code",
   "execution_count": null,
   "metadata": {},
   "outputs": [],
   "source": [
    "# load dataset file\n",
    "df_excel = pd.read_excel(\"Results/Generated-datasets-0103.xlsx\", sheet_name=None)"
   ]
  },
  {
   "cell_type": "code",
   "execution_count": null,
   "metadata": {},
   "outputs": [],
   "source": [
    "# Generate dataframes for matrix lineplot\n",
    "res = df_excel[\"RESULTS\"].dropna()\n",
    "df_list=[]\n",
    "min_concepts={}\n",
    "for i in res[\"Dataset\"]:\n",
    "    \n",
    "    col_names = df_excel[i].columns.values\n",
    "    col_names[0]  = \"Concepts\"\n",
    "    col_names[1]  = \"GC\"\n",
    "    df_excel[i].columns = col_names\n",
    "    \n",
    "    ones = res[res[\"Dataset\"]==i][\"Ones\"].values[0]\n",
    "    df = df_excel[i].loc[:,df_excel[i].columns != \"Concepts\"]/ones\n",
    "    df = df.drop(\"LS\", axis=1)\n",
    "    df.insert(0, \"Concepts\", df_excel[i][\"Concepts\"].values)\n",
    "    if len(df[df.isnull().any(axis=1)])>0:\n",
    "        min_concepts_cov = df[df.isnull().any(axis=1)][\"Concepts\"].index[0]\n",
    "        if(df[df.drop(\"CL\", axis=1).isnull().any(axis=1)][\"Concepts\"].iloc[0]-1 - df[df.isnull().any(axis=1)][\"Concepts\"].index[0] != 0):\n",
    "           print(i)\n",
    "           print(min_concepts_cov)\n",
    "           print(\"---\")\n",
    "        else:\n",
    "            continue\n",
    "    else:\n",
    "        min_concepts_cov = len(df.Concepts)\n",
    "    min_concepts[i] = min_concepts_cov\n",
    "    df = df.melt(id_vars =['Concepts'], var_name=\"Method\", value_name=\"Coverage\")  \n",
    "    df[\"Concepts\"] = df[\"Concepts\"]/min_concepts_cov\n",
    "    df = df[df[\"Concepts\"]<=1]\n",
    "    df.insert(3,\"Ds\",i)\n",
    "    df_list.append(df)"
   ]
  },
  {
   "cell_type": "code",
   "execution_count": null,
   "metadata": {},
   "outputs": [],
   "source": [
    "# union all dataframes to single df\n",
    "df_plot = pd.concat(df_list, ignore_index=True)"
   ]
  },
  {
   "cell_type": "code",
   "execution_count": null,
   "metadata": {},
   "outputs": [],
   "source": [
    "sns.set_context(\"paper\", rc={\"ytick.labelsize\":11,\"xtick.labelsize\":11,\"axes.labelsize\":14})   "
   ]
  },
  {
   "cell_type": "code",
   "execution_count": null,
   "metadata": {},
   "outputs": [],
   "source": [
    "g = sns.relplot(x=\"Concepts\",y=\"Coverage\", col=\"Method\", col_wrap=3, \n",
    "                hue=\"Ds\", alpha=0.05,\n",
    "                palette = sns.dark_palette(\"black\", n_colors=988), \n",
    "                kind=\"line\", legend=False, data=df_plot)"
   ]
  },
  {
   "cell_type": "code",
   "execution_count": null,
   "metadata": {},
   "outputs": [],
   "source": [
    "g.savefig(\"line-gen-0103.pdf\")"
   ]
  },
  {
   "cell_type": "code",
   "execution_count": null,
   "metadata": {},
   "outputs": [],
   "source": [
    "# HEATMAPS\n",
    "hmfull = pd.read_csv(\"Results\\heatmap-gen-full.csv\",index_col=0)\n",
    "axfull = sns.heatmap(hmfull, vmax=1.0, vmin=0.2, cmap=sns.cubehelix_palette(12))\n",
    "axfull.figure.savefig(\"generated-ds-heatmap-full.pdf\")"
   ]
  },
  {
   "cell_type": "code",
   "execution_count": null,
   "metadata": {},
   "outputs": [],
   "source": [
    "hm5 = pd.read_csv(\"Results\\heatmap-gen-5.csv\",index_col=0)\n",
    "ax5 = sns.heatmap(hm5, vmax=1.0, vmin=0.2, cmap=sns.cubehelix_palette(12))\n",
    "ax5.figure.savefig(\"generated-ds-heatmap-5.pdf\")"
   ]
  },
  {
   "cell_type": "code",
   "execution_count": null,
   "metadata": {},
   "outputs": [],
   "source": [
    "hm10 = pd.read_csv(\"Results\\heatmap-gen-10.csv\",index_col=0)\n",
    "ax10 = sns.heatmap(hm10, vmax=1.0, vmin=0.2, cmap=sns.cubehelix_palette(12))\n",
    "ax10.figure.savefig(\"generated-ds-heatmap-10.pdf\")"
   ]
  },
  {
   "cell_type": "code",
   "execution_count": null,
   "metadata": {},
   "outputs": [],
   "source": [
    "hm15 = pd.read_csv(\"Results\\heatmap-gen-15.csv\", index_col=0)\n",
    "ax15 = sns.heatmap(hm15, vmax=1.0, vmin=0.2, cmap=sns.cubehelix_palette(12))\n",
    "ax15.figure.savefig(\"generated-ds-heatmap-15.pdf\")"
   ]
  },
  {
   "cell_type": "code",
   "execution_count": null,
   "metadata": {},
   "outputs": [],
   "source": [
    "hm20 = pd.read_csv(\"Results\\heatmap-gen-20.csv\", index_col=0)\n",
    "ax20 = sns.heatmap(hm20, vmax=1.0, vmin=0.2, cmap=sns.cubehelix_palette(12))\n",
    "ax20.figure.savefig(\"generated-ds-heatmap-20.pdf\")"
   ]
  }
 ],
 "metadata": {
  "kernelspec": {
   "display_name": "Python 3",
   "language": "python",
   "name": "python3"
  },
  "language_info": {
   "codemirror_mode": {
    "name": "ipython",
    "version": 3
   },
   "file_extension": ".py",
   "mimetype": "text/x-python",
   "name": "python",
   "nbconvert_exporter": "python",
   "pygments_lexer": "ipython3",
   "version": "3.7.6"
  }
 },
 "nbformat": 4,
 "nbformat_minor": 4
}
